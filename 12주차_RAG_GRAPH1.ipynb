{
  "cells": [
    {
      "cell_type": "code",
      "execution_count": null,
      "metadata": {
        "colab": {
          "base_uri": "https://localhost:8080/"
        },
        "id": "FCIRaofzbp-x",
        "outputId": "9aa001ec-d6a5-4dcb-9a26-bce7b44a44aa"
      },
      "outputs": [
        {
          "output_type": "stream",
          "name": "stdout",
          "text": [
            "Collecting neo4j\n",
            "  Downloading neo4j-5.28.1-py3-none-any.whl.metadata (5.9 kB)\n",
            "Requirement already satisfied: pytz in /usr/local/lib/python3.11/dist-packages (from neo4j) (2025.2)\n",
            "Downloading neo4j-5.28.1-py3-none-any.whl (312 kB)\n",
            "\u001b[2K   \u001b[90m━━━━━━━━━━━━━━━━━━━━━━━━━━━━━━━━━━━━━━━━\u001b[0m \u001b[32m312.3/312.3 kB\u001b[0m \u001b[31m4.7 MB/s\u001b[0m eta \u001b[36m0:00:00\u001b[0m\n",
            "\u001b[?25hInstalling collected packages: neo4j\n",
            "Successfully installed neo4j-5.28.1\n"
          ]
        }
      ],
      "source": [
        "!pip install neo4j"
      ]
    },
    {
      "cell_type": "code",
      "source": [
        "from neo4j import GraphDatabase"
      ],
      "metadata": {
        "id": "BKbx1AEPbyFV"
      },
      "execution_count": null,
      "outputs": []
    },
    {
      "cell_type": "code",
      "execution_count": null,
      "metadata": {
        "id": "Aqr-evfqbp-z"
      },
      "outputs": [],
      "source": [
        "uri = 'neo4j+s://d7439c49.databases.neo4j.io'\n",
        "user = 'neo4j'\n",
        "password = 'EMM7ZD6VbuuEZLA1xeNE4wvoR1Scmf6W87bVHFYx1TE'"
      ]
    },
    {
      "cell_type": "code",
      "execution_count": null,
      "metadata": {
        "id": "4YCzZpCNbp-z"
      },
      "outputs": [],
      "source": [
        "driver = GraphDatabase.driver(uri, auth=(user, password))"
      ]
    },
    {
      "cell_type": "code",
      "execution_count": null,
      "metadata": {
        "id": "EFURLKgwbp-0"
      },
      "outputs": [],
      "source": [
        "def run_query(func):\n",
        "    with driver.session() as session:\n",
        "        session.read_transaction(func)"
      ]
    },
    {
      "cell_type": "code",
      "execution_count": null,
      "metadata": {
        "colab": {
          "base_uri": "https://localhost:8080/"
        },
        "id": "vHxH8rgUbp-0",
        "outputId": "ead15626-dbb8-48ce-faf2-df2fc0d010a1"
      },
      "outputs": [
        {
          "output_type": "stream",
          "name": "stderr",
          "text": [
            "<ipython-input-20-7749971acb49>:3: DeprecationWarning: read_transaction has been renamed to execute_read\n",
            "  session.read_transaction(func)\n"
          ]
        },
        {
          "output_type": "stream",
          "name": "stdout",
          "text": [
            "['해시함수', '비대칭키암호', '대칭키암호']\n"
          ]
        }
      ],
      "source": [
        "# 암호화 방식의 종류는?\n",
        "lst_result = []\n",
        "def get_cypher_method(tx):\n",
        "    query = \"\"\"\n",
        "               MATCH (a{명칭:'암호화방식'}) - [r:종류] -> (b)\n",
        "               RETURN b.명칭 AS 암호화방식종류\n",
        "            \"\"\"\n",
        "    result = tx.run(query)\n",
        "\n",
        "    for record in result:\n",
        "        lst_result.append(record['암호화방식종류'])\n",
        "\n",
        "    return lst_result\n",
        "\n",
        "run_query(get_cypher_method)\n",
        "print(lst_result)"
      ]
    },
    {
      "cell_type": "markdown",
      "metadata": {
        "id": "e4vL4gUEbp-2"
      },
      "source": [
        "---"
      ]
    },
    {
      "cell_type": "code",
      "execution_count": null,
      "metadata": {
        "colab": {
          "base_uri": "https://localhost:8080/"
        },
        "id": "jNs-VoOLbp-3",
        "outputId": "2ee777cc-8771-4ade-b93b-1f993df41ca2"
      },
      "outputs": [
        {
          "output_type": "stream",
          "name": "stderr",
          "text": [
            "<ipython-input-20-7749971acb49>:3: DeprecationWarning: read_transaction has been renamed to execute_read\n",
            "  session.read_transaction(func)\n"
          ]
        },
        {
          "output_type": "stream",
          "name": "stdout",
          "text": [
            "SEED(키길이:128, 256) ARIA(키길이:128, 192, 256) AES(키길이:128, 192, 256)\n"
          ]
        }
      ],
      "source": [
        "lst_result = []\n",
        "def get_symetric_key(tx):\n",
        "    query = \"\"\"\n",
        "        MATCH (a{명칭:'대칭키암호'}) - [r:종류] -> (b)\n",
        "        RETURN b.명칭 AS 명칭, b.키길이 AS 키길이\n",
        "        \"\"\"\n",
        "    result = tx.run(query)\n",
        "    for record in result:\n",
        "        lst_result.append('{}(키길이:{})'.format(record['명칭'], record['키길이']))\n",
        "\n",
        "run_query(get_symetric_key)\n",
        "print(' '.join(lst_result))"
      ]
    },
    {
      "cell_type": "markdown",
      "metadata": {
        "id": "zzj5AhVabp-4"
      },
      "source": [
        "---"
      ]
    },
    {
      "cell_type": "code",
      "execution_count": null,
      "metadata": {
        "id": "dKQOYBcDbp-4",
        "colab": {
          "base_uri": "https://localhost:8080/"
        },
        "outputId": "a08cfda7-be79-4187-ac9b-fb3cd2bc9368"
      },
      "outputs": [
        {
          "output_type": "stream",
          "name": "stderr",
          "text": [
            "<ipython-input-20-7749971acb49>:3: DeprecationWarning: read_transaction has been renamed to execute_read\n",
            "  session.read_transaction(func)\n"
          ]
        },
        {
          "output_type": "stream",
          "name": "stdout",
          "text": [
            "['암호화와 복호화에 동일한 키를 사용하는 암호화 알고리즘']\n"
          ]
        }
      ],
      "source": [
        "# 비밀키 암호 알고리즘의 유사어 대칭키 암호 알고리즘의 유 설명\n",
        "lst_result = []\n",
        "def get_private_key1(tx):\n",
        "  query = \"\"\"\n",
        "      MATCH (a) - [r:유사어] -> (b{명칭 : '비밀키암호'})\n",
        "      RETURN a.설명 AS 설명\n",
        "      \"\"\"\n",
        "  result = tx.run(query)\n",
        "  for record in result:\n",
        "      lst_result.append(record['설명'])\n",
        "\n",
        "run_query(get_private_key1)\n",
        "print(lst_result)"
      ]
    },
    {
      "cell_type": "code",
      "execution_count": null,
      "metadata": {
        "id": "POt72Lvrbp-5",
        "outputId": "4b01a978-321e-413b-e51d-4661a5528a9a",
        "colab": {
          "base_uri": "https://localhost:8080/"
        }
      },
      "outputs": [
        {
          "output_type": "stream",
          "name": "stderr",
          "text": [
            "<ipython-input-20-7749971acb49>:3: DeprecationWarning: read_transaction has been renamed to execute_read\n",
            "  session.read_transaction(func)\n"
          ]
        },
        {
          "output_type": "stream",
          "name": "stdout",
          "text": [
            "['SEED', 'ARIA', 'AES']\n"
          ]
        }
      ],
      "source": [
        "# 대칭키 암호 알고리즘의 유사어의 종류\n",
        "lst_result = []\n",
        "def get_private_key2(tx):\n",
        "    query =\"\"\"\n",
        "                MATCH (a) - [rl: 유사어] -> (b{명칭:'비밀키암호'})\n",
        "                MATCH (a) - [r2: 종류] -> (c)\n",
        "                RETURN c.명칭 AS 명칭\n",
        "            \"\"\"\n",
        "    result = tx.run(query)\n",
        "    for record in result:\n",
        "        lst_result.append (record['명칭'])\n",
        "run_query(get_private_key2)\n",
        "print(lst_result)"
      ]
    },
    {
      "cell_type": "markdown",
      "metadata": {
        "id": "4cACU1s9bp-5"
      },
      "source": [
        "---"
      ]
    }
  ],
  "metadata": {
    "kernelspec": {
      "display_name": "Python 3",
      "language": "python",
      "name": "python3"
    },
    "language_info": {
      "codemirror_mode": {
        "name": "ipython",
        "version": 3
      },
      "file_extension": ".py",
      "mimetype": "text/x-python",
      "name": "python",
      "nbconvert_exporter": "python",
      "pygments_lexer": "ipython3",
      "version": "3.8.3"
    },
    "colab": {
      "provenance": []
    }
  },
  "nbformat": 4,
  "nbformat_minor": 0
}